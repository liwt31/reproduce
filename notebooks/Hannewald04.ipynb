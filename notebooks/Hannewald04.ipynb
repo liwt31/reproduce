{
 "cells": [
  {
   "cell_type": "markdown",
   "metadata": {},
   "source": [
    "## [Hannewald04](https://journals.aps.org/prb/abstract/10.1103/PhysRevB.69.075212)\n",
    "Anisotropy Effects in Phonon-Assisted Charge-Carrier Transport in Organic Molecular Crystals. K. Hannewald and P. A. Bobbert. *Phys. Rev. B* **2004**, *69*, 075212."
   ]
  },
  {
   "cell_type": "code",
   "execution_count": 1,
   "metadata": {},
   "outputs": [],
   "source": [
    "import numpy as np\n",
    "from matplotlib import pyplot as plt\n",
    "from scipy.integrate import trapz"
   ]
  },
  {
   "cell_type": "code",
   "execution_count": 6,
   "metadata": {},
   "outputs": [
    {
     "data": {
      "text/plain": [
       "<matplotlib.legend.Legend at 0x26d4b0f44e0>"
      ]
     },
     "execution_count": 6,
     "metadata": {},
     "output_type": "execute_result"
    },
    {
     "data": {
      "image/png": "[encoded data removed]",
      "text/plain": [
       "<Figure size 288x432 with 1 Axes>"
      ]
     },
     "metadata": {
      "needs_background": "light"
     },
     "output_type": "display_data"
    }
   ],
   "source": [
    "omega = 15e-3 / 27.2\n",
    "g_eff = 1\n",
    "t = np.linspace(0, 1e6, 100000)\n",
    "broadening = np.exp(-(0.1e-3/27.2*t)**2)\n",
    "T_list = np.logspace(1, 2.7)\n",
    "\n",
    "\n",
    "a = 7 / 0.52\n",
    "g_a = 0.2\n",
    "E_a = 10.0e-3 / 27.2\n",
    "\n",
    "b = 8 / 0.52\n",
    "g_b = 0.3\n",
    "E_b = 5.0e-3 / 27.2\n",
    "\n",
    "c = 9 / 0.52\n",
    "g_c = 0.4\n",
    "E_c = 3.0e-3 / 27.2\n",
    "\n",
    "plt.figure(figsize=(4, 6))\n",
    "for x, g_x, E_x, label in [[a, g_a, E_a, \"a\"], [b, g_b, E_b, \"b\"], [c, g_c, E_c, \"c\"]]:\n",
    "    mobility_list = []\n",
    "    for T in (T_list * 3.166e-6):\n",
    "        N_ph = 1 / (np.exp(omega / T)-1)\n",
    "        phi_ph = (1 + N_ph) * np.exp(-1j * omega * t) + N_ph * np.exp(1j * omega * t)\n",
    "        gamma_ph = 2 * g_eff ** 2 * (1 + 2 * N_ph - phi_ph)\n",
    "        integrand = (E_x ** 2 + 0.5 * (omega * g_x) ** 2 * phi_ph ) * np.exp(-gamma_ph)\n",
    "        m = 2 * trapz((integrand * broadening).real, t)\n",
    "        mobility_list.append(x ** 2 * m/T)\n",
    "    plt.plot(T_list, mobility_list, label=label)\n",
    "plt.xscale(\"log\")\n",
    "plt.yscale(\"log\")\n",
    "plt.xticks([20, 100, 500], [20, 100, 500])\n",
    "plt.yticks([], [])\n",
    "plt.xlim(20, 500)\n",
    "plt.legend()"
   ]
  },
  {
   "cell_type": "code",
   "execution_count": null,
   "metadata": {},
   "outputs": [],
   "source": []
  }
 ],
 "metadata": {
  "kernelspec": {
   "display_name": "py36",
   "language": "python",
   "name": "py36"
  },
  "language_info": {
   "codemirror_mode": {
    "name": "ipython",
    "version": 3
   },
   "file_extension": ".py",
   "mimetype": "text/x-python",
   "name": "python",
   "nbconvert_exporter": "python",
   "pygments_lexer": "ipython3",
   "version": "3.6.8"
  }
 },
 "nbformat": 4,
 "nbformat_minor": 2
}
