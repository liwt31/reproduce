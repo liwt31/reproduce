{
 "cells": [
  {
   "cell_type": "markdown",
   "metadata": {},
   "source": [
    "## [Nematiaram19](https://pubs.acs.org/doi/pdf/10.1021/acs.jpcc.8b11916)\n",
    "Practical Computation of the Charge Mobility in Molecular Semiconductors Using Transient Localization Theory. T. Nematiaram, S. Ciuchi, X. Xie, S. Fratini and A. Troisi. *J. Phys. Chem. C* **2019**, *123*, 6989-6997.\n",
    "\n",
    "## [Fratini17](https://www.nature.com/articles/nmat4970)\n",
    "A Map of High-Mobility Molecular Semiconductors. S. Fratini, S. Ciuchi, D. Mayou, G. T. de Laissardière and A. Troisi. *Nat. Mater.* **2017**, *16*, 998-1002."
   ]
  },
  {
   "cell_type": "code",
   "execution_count": 9,
   "metadata": {},
   "outputs": [],
   "source": [
    "import numpy as np\n",
    "from tqdm import tqdm\n",
    "from matplotlib import pyplot as plt"
   ]
  },
  {
   "cell_type": "markdown",
   "metadata": {},
   "source": [
    "## Setup parameters"
   ]
  },
  {
   "cell_type": "code",
   "execution_count": 2,
   "metadata": {},
   "outputs": [],
   "source": [
    "sizei = sizej = 12\n",
    "total_size = sizei * sizej * 2\n",
    "N = 50\n",
    "T = 290 * 1.38064881e-23 / 4.3597447222071e-18\n",
    "sigma = 0.5\n",
    "tau = 5 / 1000 / 27.212\n",
    "dx = 1\n",
    "dy = np.sqrt(3)"
   ]
  },
  {
   "cell_type": "code",
   "execution_count": 3,
   "metadata": {},
   "outputs": [],
   "source": [
    "J = 0.1 / 27.212"
   ]
  },
  {
   "cell_type": "code",
   "execution_count": 4,
   "metadata": {},
   "outputs": [],
   "source": [
    "position_map = {}\n",
    "for i in range(sizei):\n",
    "    for j in range(sizej):\n",
    "        position_map[(i, j, 0)] = len(position_map)\n",
    "        position_map[(i, j, 1)] = len(position_map)"
   ]
  },
  {
   "cell_type": "markdown",
   "metadata": {},
   "source": [
    "## Build the Hamiltonian, $\\hat j_x$ and $\\hat j_y$\n",
    "Note that it is not correct to build $\\hat x$ and $\\hat y$ and use Eq.9 in the paper because this approach can not correctly handle the current at the boundary."
   ]
  },
  {
   "cell_type": "code",
   "execution_count": 5,
   "metadata": {},
   "outputs": [],
   "source": [
    "def build_Operators(Ja, Jb, Jc):\n",
    "    # generate Ja etc according to normal distribution\n",
    "    def g_Ja():\n",
    "        return np.random.normal(Ja, np.abs(Ja)*sigma)\n",
    "\n",
    "    def g_Jb():\n",
    "        return np.random.normal(Jb, np.abs(Jb)*sigma)\n",
    "\n",
    "    def g_Jc():\n",
    "        return np.random.normal(Jc, np.abs(Jc)*sigma)\n",
    "    \n",
    "    # terms in the Hamiltonian\n",
    "    H_terms = []\n",
    "    for i in range(sizei):\n",
    "        for j in range(sizej):\n",
    "            next_i = (i+1) % sizei\n",
    "            next_j = (j+1) % sizej\n",
    "            # within unit cell\n",
    "            H_terms.append( (position_map[i, j, 0], position_map[i, j, 1], g_Jb(), dx/2, dy/2) )\n",
    "            H_terms.append( (position_map[next_i, j, 0], position_map[i, j, 1], g_Jc(), -dx/2, dy/2) )\n",
    "            H_terms.append( (position_map[i, next_j, 0], position_map[i, j, 1], g_Jc(), dx/2, -dy/2) )\n",
    "            H_terms.append( (position_map[next_i, next_j, 0], position_map[i, j, 1], g_Jb(), -dx/2, -dy/2) )\n",
    "            # horizontal direction\n",
    "            H_terms.append( (position_map[i, j, 0], position_map[next_i, j, 0], g_Ja(), dx, 0) )\n",
    "            H_terms.append( (position_map[i, j, 1], position_map[next_i, j, 1], g_Ja(), dx, 0) )\n",
    "            # vertical direction\n",
    "            # None\n",
    "    \n",
    "    # build operators\n",
    "    H = np.zeros((total_size, total_size))\n",
    "    jx_oper = np.zeros((total_size, total_size))\n",
    "    jy_oper = np.zeros((total_size, total_size))\n",
    "    for i, j, term, ddx, ddy in H_terms:\n",
    "        H[i][j] = H[j][i] = term\n",
    "        jx_oper[i][j] = term * ddx\n",
    "        jx_oper[j][i] = term * (-ddx)\n",
    "        jy_oper[i][j] = term * ddy\n",
    "        jy_oper[j][i] = term * (-ddy)\n",
    "    return H, jx_oper, jy_oper"
   ]
  },
  {
   "cell_type": "markdown",
   "metadata": {},
   "source": [
    "## Calculate $L^2$"
   ]
  },
  {
   "cell_type": "code",
   "execution_count": 6,
   "metadata": {},
   "outputs": [],
   "source": [
    "def calc_L(H, jx_oper, jy_oper):\n",
    "    evals, evecs = np.linalg.eigh(H) \n",
    "\n",
    "    E_n = evals.reshape(-1, 1)\n",
    "    E_m = evals.reshape(1, -1)\n",
    "\n",
    "    jx_mat = evecs.T @ jx_oper @ evecs\n",
    "    jy_mat = evecs.T @ jy_oper @ evecs\n",
    "\n",
    "    Z = np.exp(E_n / T).sum()\n",
    "\n",
    "    Lx = np.exp(E_n / T) / Z * (jx_mat ** 2) * ( 2/(tau**2 + (E_m - E_n)**2) )\n",
    "    Ly = np.exp(E_n / T) / Z * (jy_mat ** 2) * ( 2/(tau**2 + (E_m - E_n)**2) )\n",
    "    \n",
    "    return Lx.sum(), Ly.sum()"
   ]
  },
  {
   "cell_type": "code",
   "execution_count": 7,
   "metadata": {},
   "outputs": [
    {
     "name": "stderr",
     "output_type": "stream",
     "text": [
      "100%|██████████████████████████████████████████████████████████████████████████████████| 50/50 [00:03<00:00, 14.32it/s]\n",
      "100%|██████████████████████████████████████████████████████████████████████████████████| 50/50 [00:03<00:00, 13.71it/s]\n",
      "100%|██████████████████████████████████████████████████████████████████████████████████| 50/50 [00:03<00:00, 14.46it/s]\n",
      "100%|██████████████████████████████████████████████████████████████████████████████████| 50/50 [00:03<00:00, 14.01it/s]\n",
      "100%|██████████████████████████████████████████████████████████████████████████████████| 50/50 [00:03<00:00, 13.93it/s]\n",
      "100%|██████████████████████████████████████████████████████████████████████████████████| 50/50 [00:03<00:00, 14.10it/s]\n",
      "100%|██████████████████████████████████████████████████████████████████████████████████| 50/50 [00:03<00:00, 14.24it/s]\n",
      "100%|██████████████████████████████████████████████████████████████████████████████████| 50/50 [00:03<00:00, 13.24it/s]\n",
      "100%|██████████████████████████████████████████████████████████████████████████████████| 50/50 [00:03<00:00, 14.26it/s]\n",
      "100%|██████████████████████████████████████████████████████████████████████████████████| 50/50 [00:03<00:00, 14.09it/s]\n",
      "100%|██████████████████████████████████████████████████████████████████████████████████| 50/50 [00:03<00:00, 14.10it/s]\n",
      "100%|██████████████████████████████████████████████████████████████████████████████████| 50/50 [00:03<00:00, 14.20it/s]\n",
      "100%|██████████████████████████████████████████████████████████████████████████████████| 50/50 [00:03<00:00, 13.96it/s]\n",
      "100%|██████████████████████████████████████████████████████████████████████████████████| 50/50 [00:03<00:00, 14.46it/s]\n",
      "100%|██████████████████████████████████████████████████████████████████████████████████| 50/50 [00:03<00:00, 14.16it/s]\n",
      "100%|██████████████████████████████████████████████████████████████████████████████████| 50/50 [00:03<00:00, 14.33it/s]\n",
      "100%|██████████████████████████████████████████████████████████████████████████████████| 50/50 [00:03<00:00, 14.11it/s]\n",
      "100%|██████████████████████████████████████████████████████████████████████████████████| 50/50 [00:03<00:00, 14.36it/s]\n",
      "100%|██████████████████████████████████████████████████████████████████████████████████| 50/50 [00:03<00:00, 14.15it/s]\n",
      "100%|██████████████████████████████████████████████████████████████████████████████████| 50/50 [00:03<00:00, 14.80it/s]\n"
     ]
    }
   ],
   "source": [
    "theta_list = np.linspace(0, np.pi, 20)\n",
    "mobility_list = []\n",
    "for theta in theta_list:\n",
    "    Ja = J * np.cos(theta)\n",
    "    Jb = Jc = J * np.sin(theta) / np.sqrt(2)\n",
    "    l2_for_av = []\n",
    "    for i in tqdm(range(N)):\n",
    "        Lx, Ly = calc_L(*build_Operators(Ja, Jb, Jc))\n",
    "        # print(Lx, Ly, (Lx+Ly)/2)\n",
    "        l2_for_av.append((Lx+Ly)/2)\n",
    "    mobility_list.append(np.mean(l2_for_av))"
   ]
  },
  {
   "cell_type": "code",
   "execution_count": 13,
   "metadata": {},
   "outputs": [
    {
     "data": {
      "text/plain": [
       "Text(0.5, 0, '$\\\\theta$')"
      ]
     },
     "execution_count": 13,
     "metadata": {},
     "output_type": "execute_result"
    },
    {
     "data": {
      "image/png": "[encoded data removed]",
      "text/plain": [
       "<Figure size 432x288 with 1 Axes>"
      ]
     },
     "metadata": {
      "needs_background": "light"
     },
     "output_type": "display_data"
    }
   ],
   "source": [
    "plt.plot(theta_list, mobility_list, marker=\"s\")\n",
    "plt.ylabel(r\"$L^2$\")\n",
    "plt.xlabel(r\"$\\theta$\")"
   ]
  },
  {
   "cell_type": "code",
   "execution_count": null,
   "metadata": {},
   "outputs": [],
   "source": []
  }
 ],
 "metadata": {
  "kernelspec": {
   "display_name": "py36",
   "language": "python",
   "name": "py36"
  },
  "language_info": {
   "codemirror_mode": {
    "name": "ipython",
    "version": 3
   },
   "file_extension": ".py",
   "mimetype": "text/x-python",
   "name": "python",
   "nbconvert_exporter": "python",
   "pygments_lexer": "ipython3",
   "version": "3.6.8"
  }
 },
 "nbformat": 4,
 "nbformat_minor": 2
}
