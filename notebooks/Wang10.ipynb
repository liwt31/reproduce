{
 "cells": [
  {
   "cell_type": "markdown",
   "id": "9550731b-b685-4b70-8cfc-cbfa996deb22",
   "metadata": {},
   "source": [
    "## [Shuai10](http://dx.doi.org/10.1039/b816406c)\n",
    "Computational methods for design of organic materials with high charge mobility. L. Wang, G. Nan, X. Yang, Q. Peng, Q. Li and Z. Shuai, *Chem. Soc. Rev.* **2010**, *39*, 423.\n",
    "\n",
    "Fig. 5 - transfer integral.\n",
    "\n",
    "## [Nan09JCP](https://doi.org/10.1063/1.3055519)\n",
    "Charge transfer rates in organic semiconductors beyond first-order perturbation: From weak to strong coupling regimes. G. Nan, L. Wang, X. Yang, Z. Shuai, Y. Zhao. *J. Chem. Phys.*, **2009**, *130*, 024704.\n",
    "\n",
    "Fig. 4 - transfer integral\n",
    "\n",
    "See also [Valeev06jacs](https://pubs.acs.org/doi/10.1021/ja061827h) Eq.10 for the final expression of transfer integral in terms of orthonormal orbitals."
   ]
  },
  {
   "cell_type": "code",
   "execution_count": 4,
   "id": "dae0c7d4-b81c-47bc-b3ae-f5ee4fd7f7c3",
   "metadata": {},
   "outputs": [],
   "source": [
    "import numpy as np\n",
    "np.set_printoptions(linewidth=250)\n",
    "import pyscf"
   ]
  },
  {
   "cell_type": "markdown",
   "id": "8f41020e-92db-42eb-868c-78c1f2656b73",
   "metadata": {},
   "source": [
    "### Building pentacene dimer"
   ]
  },
  {
   "cell_type": "code",
   "execution_count": 5,
   "id": "acf6e64a-2c51-4ed6-b230-e6e93569608c",
   "metadata": {},
   "outputs": [],
   "source": [
    "atom1 = atom = \"\"\"\n",
    "C 0.000000 0.000000 1.406683\n",
    "C 0.000000 1.224532 0.727541\n",
    "C 0.000000 2.463824 1.406276\n",
    "C 0.000000 3.672444 0.726656\n",
    "C 0.000000 4.934586 1.408386\n",
    "C 0.000000 6.108003 0.715689\n",
    "C 0.000000 0.000000 -1.406683\n",
    "C 0.000000 1.224532 -0.727541\n",
    "C 0.000000 2.463824 -1.406276\n",
    "C 0.000000 3.672444 -0.726656\n",
    "C 0.000000 4.934586 -1.408386\n",
    "C 0.000000 6.108003 -0.715689\n",
    "C 0.000000 -1.224532 -0.727541\n",
    "C 0.000000 -2.463824 -1.406276\n",
    "C 0.000000 -3.672444 -0.726656\n",
    "C 0.000000 -4.934586 -1.408386\n",
    "C 0.000000 -6.108003 -0.715689\n",
    "C 0.000000 -1.224532 0.727541\n",
    "C 0.000000 -2.463824 1.406276\n",
    "C 0.000000 -3.672444 0.726656\n",
    "C 0.000000 -4.934586 1.408386\n",
    "C 0.000000 -6.108003 0.715689\n",
    "H 0.000000 0.000000 2.492435\n",
    "H 0.000000 2.464311 2.492092\n",
    "H 0.000000 4.935578 2.493484\n",
    "H 0.000000 7.053599 1.245772\n",
    "H 0.000000 0.000000 -2.492435\n",
    "H 0.000000 2.464311 -2.492092\n",
    "H 0.000000 4.935578 -2.493484\n",
    "H 0.000000 7.053599 -1.245772\n",
    "H 0.000000 -2.464311 -2.492092\n",
    "H 0.000000 -4.935578 -2.493484\n",
    "H 0.000000 -7.053599 -1.245772\n",
    "H 0.000000 -2.464311 2.492092\n",
    "H 0.000000 -4.935578 2.493484\n",
    "H 0.000000 -7.053599 1.245772\n",
    "\"\"\""
   ]
  },
  {
   "cell_type": "code",
   "execution_count": 6,
   "id": "51acf3ea-594c-4819-8dc9-9220001d7334",
   "metadata": {},
   "outputs": [],
   "source": [
    "def displace_and_rotate(r, theta):\n",
    "    lines = atom.split(\"\\n\")[1:-1]\n",
    "    atoms = [line.split()[0] for line in lines]\n",
    "    coords = [list(map(float, line.split()[1:])) for line in lines]\n",
    "    coords = np.array(coords)\n",
    "    coords[:, 0] = coords[:, 2] * np.sin(theta / 180 * np.pi)\n",
    "    coords[:, 2] = coords[:, 2] * np.cos(theta / 180 * np.pi)\n",
    "    coords[:, 0] += r + 1.5 * np.sin(theta / 180 * np.pi)\n",
    "    return \"\\n\".join([x + \" \" + \" \".join(map(str, y)) for x, y in zip(atoms, coords)])"
   ]
  },
  {
   "cell_type": "markdown",
   "id": "436c5c22-9f5a-4f78-9a6b-3495e0205d8d",
   "metadata": {},
   "source": [
    "### Angle = 0"
   ]
  },
  {
   "cell_type": "code",
   "execution_count": 32,
   "id": "31806bdb-bdf2-43e9-b543-5343725e5fc0",
   "metadata": {},
   "outputs": [],
   "source": [
    "atom2 = displace_and_rotate(3.5, 0)"
   ]
  },
  {
   "cell_type": "code",
   "execution_count": 11,
   "id": "8121e154-3151-4117-ac6a-f6bf18583738",
   "metadata": {},
   "outputs": [],
   "source": [
    "basis = \"631G*\"\n",
    "m1 = pyscf.M(atom=atom1, basis=basis)\n",
    "m2 = pyscf.M(atom=atom2, basis=basis)\n",
    "md = pyscf.M(atom=atom1+atom2, basis=basis)"
   ]
  },
  {
   "cell_type": "code",
   "execution_count": 12,
   "id": "e9579260-3fcc-4080-af2a-3eea6e0b9304",
   "metadata": {},
   "outputs": [],
   "source": [
    "xc = \"pw91, pw91\""
   ]
  },
  {
   "cell_type": "code",
   "execution_count": 13,
   "id": "19f78e3c-b2e2-40f5-b8b2-f8bb02b1e3a0",
   "metadata": {},
   "outputs": [
    {
     "name": "stdout",
     "output_type": "stream",
     "text": [
      "converged SCF energy = -846.449183700699\n"
     ]
    },
    {
     "data": {
      "text/plain": [
       "-846.4491837006992"
      ]
     },
     "execution_count": 13,
     "metadata": {},
     "output_type": "execute_result"
    }
   ],
   "source": [
    "hf1 = m1.RKS()\n",
    "hf1.xc = xc\n",
    "hf1.kernel()"
   ]
  },
  {
   "cell_type": "code",
   "execution_count": 14,
   "id": "512e0f5f-09cd-4151-942b-8c0d6e7ca620",
   "metadata": {},
   "outputs": [
    {
     "name": "stdout",
     "output_type": "stream",
     "text": [
      "converged SCF energy = -846.4491837007\n"
     ]
    },
    {
     "data": {
      "text/plain": [
       "-846.4491837006997"
      ]
     },
     "execution_count": 14,
     "metadata": {},
     "output_type": "execute_result"
    }
   ],
   "source": [
    "hf2 = m2.RKS()\n",
    "hf2.xc = xc\n",
    "hf2.kernel()"
   ]
  },
  {
   "cell_type": "code",
   "execution_count": 16,
   "id": "995b32f9-8788-413d-9670-d3bc36d92819",
   "metadata": {},
   "outputs": [],
   "source": [
    "hf3 = md.RKS()\n",
    "hf3.xc = xc"
   ]
  },
  {
   "cell_type": "code",
   "execution_count": 19,
   "id": "dee5daae-082e-4b9e-9936-3e832e79634f",
   "metadata": {},
   "outputs": [],
   "source": [
    "n = m1.nao\n",
    "S = md.intor(\"int1e_ovlp\")\n",
    "C = np.zeros_like(S)\n",
    "C[:n, :n] = hf1.mo_coeff\n",
    "C[n:, n:] = hf2.mo_coeff\n",
    "epsilon = np.diag(hf1.mo_energy.tolist() + hf2.mo_energy.tolist())"
   ]
  },
  {
   "cell_type": "code",
   "execution_count": 20,
   "id": "6e8fcf4c-e554-4d18-9e35-5e8d2481c40c",
   "metadata": {},
   "outputs": [],
   "source": [
    "homo = m1.nelec[0] - 1\n",
    "psi1 = np.zeros(2*n)\n",
    "psi1[:n] = hf1.mo_coeff[:, homo]\n",
    "psi2 = np.zeros(2*n)\n",
    "psi2[n:] = hf2.mo_coeff[:, homo]"
   ]
  },
  {
   "cell_type": "code",
   "execution_count": 21,
   "id": "cab24bca-b318-4079-86b1-a658684ef2b7",
   "metadata": {},
   "outputs": [],
   "source": [
    "mo_occ = np.diag(hf1.mo_occ.tolist() + hf2.mo_occ.tolist())\n",
    "dm = C @ mo_occ @ C.T"
   ]
  },
  {
   "cell_type": "code",
   "execution_count": 22,
   "id": "566a8bb1-3f76-4195-a1cd-52a568c77c30",
   "metadata": {},
   "outputs": [],
   "source": [
    "fock = hf3.get_fock(dm=dm)"
   ]
  },
  {
   "cell_type": "code",
   "execution_count": 25,
   "id": "490a1fa9-129e-42b0-8b9e-94eeb2354361",
   "metadata": {},
   "outputs": [],
   "source": [
    "e1 = psi1 @ fock @ psi1\n",
    "e2 = psi2 @ fock @ psi2\n",
    "j12 = psi1 @ fock @ psi2\n",
    "s12 = psi1 @ S @ psi2"
   ]
  },
  {
   "cell_type": "code",
   "execution_count": 26,
   "id": "47b1da5e-ed9d-48c8-8b6f-8610e877b40e",
   "metadata": {},
   "outputs": [
    {
     "data": {
      "text/plain": [
       "0.30758116784108974"
      ]
     },
     "execution_count": 26,
     "metadata": {},
     "output_type": "execute_result"
    }
   ],
   "source": [
    "(j12 - (e1 + e2) / 2 * s12) * 27.211"
   ]
  },
  {
   "cell_type": "markdown",
   "id": "6e888648-5e18-42d8-a73d-8e9f372266b5",
   "metadata": {},
   "source": [
    "### The full figure\n",
    "The DFT calculations might take a while (on the order of hour) depending on hardware capabilities."
   ]
  },
  {
   "cell_type": "code",
   "execution_count": 27,
   "id": "df057c8e-72ff-40cb-8f57-bc1709d854cb",
   "metadata": {},
   "outputs": [
    {
     "name": "stdout",
     "output_type": "stream",
     "text": [
      "converged SCF energy = -846.449183700701\n",
      "converged SCF energy = -846.449118299409\n",
      "converged SCF energy = -846.449229503186\n",
      "converged SCF energy = -846.44917812606\n",
      "converged SCF energy = -846.449204998996\n",
      "converged SCF energy = -846.449204998996\n",
      "converged SCF energy = -846.449178126059\n",
      "converged SCF energy = -846.449229503187\n",
      "converged SCF energy = -846.449118299406\n",
      "converged SCF energy = -846.449183700695\n"
     ]
    }
   ],
   "source": [
    "v_list = []\n",
    "for theta in np.linspace(0, 90, 10):\n",
    "    atom2 = displace_and_rotate(3.5, theta)\n",
    "    m2 = pyscf.M(atom=atom2, basis=basis)\n",
    "    md = pyscf.M(atom=atom1+atom2, basis=basis)\n",
    "\n",
    "    hf2 = m2.RKS()\n",
    "    hf2.xc = xc\n",
    "    hf2.kernel()\n",
    "\n",
    "    hf3 = md.RKS()\n",
    "    hf3.xc = xc\n",
    "\n",
    "    n = m1.nao\n",
    "    S = md.intor(\"int1e_ovlp\")\n",
    "    C = np.zeros_like(S)\n",
    "    C[:n, :n] = hf1.mo_coeff\n",
    "    C[n:, n:] = hf2.mo_coeff\n",
    "    epsilon = np.diag(hf1.mo_energy.tolist() + hf2.mo_energy.tolist())\n",
    "\n",
    "    # HOMO orbitals\n",
    "    psi1 = np.zeros(2*n)\n",
    "    psi1[:n] = hf1.mo_coeff[:, m1.nelec[0] - 1]\n",
    "    psi2 = np.zeros(2*n)\n",
    "    psi2[n:] = hf2.mo_coeff[:, m2.nelec[0] - 1]\n",
    "\n",
    "    mo_occ = np.diag(hf1.mo_occ.tolist() + hf2.mo_occ.tolist())\n",
    "    dm = C @ mo_occ @ C.T\n",
    "\n",
    "    fock = hf3.get_fock(dm=dm)\n",
    "    e1 = psi1 @ fock @ psi1\n",
    "    e2 = psi2 @ fock @ psi2\n",
    "    j12 = psi1 @ fock @ psi2\n",
    "    s12 = psi1 @ S @ psi2\n",
    "\n",
    "    v = (j12 - (e1 + e2) / 2 * s12) * 27.211\n",
    "    v_list.append(v)"
   ]
  },
  {
   "cell_type": "code",
   "execution_count": 29,
   "id": "7fdd6ea7-e15c-4208-be37-9dc922d507e7",
   "metadata": {},
   "outputs": [],
   "source": [
    "from matplotlib import pyplot as plt"
   ]
  },
  {
   "cell_type": "code",
   "execution_count": 34,
   "id": "9acae54d-1697-4b20-9f87-c82b08431523",
   "metadata": {},
   "outputs": [
    {
     "data": {
      "text/plain": [
       "Text(0, 0.5, '$|V|$ (meV)')"
      ]
     },
     "execution_count": 34,
     "metadata": {},
     "output_type": "execute_result"
    },
    {
     "data": {
      "image/png": "[encoded data removed]",
      "text/plain": [
       "<Figure size 640x480 with 1 Axes>"
      ]
     },
     "metadata": {},
     "output_type": "display_data"
    }
   ],
   "source": [
    "plt.plot(np.linspace(0, 90, 10), np.abs(v_list), marker=\"s\")\n",
    "plt.xlabel(\"Angle\")\n",
    "plt.ylabel(\"$|V|$ (meV)\")"
   ]
  },
  {
   "cell_type": "code",
   "execution_count": null,
   "id": "7d0f70ee-4c15-4bdf-9152-196be5d6ad3f",
   "metadata": {},
   "outputs": [],
   "source": []
  }
 ],
 "metadata": {
  "kernelspec": {
   "display_name": "Python 3 (ipykernel)",
   "language": "python",
   "name": "python3"
  },
  "language_info": {
   "codemirror_mode": {
    "name": "ipython",
    "version": 3
   },
   "file_extension": ".py",
   "mimetype": "text/x-python",
   "name": "python",
   "nbconvert_exporter": "python",
   "pygments_lexer": "ipython3",
   "version": "3.10.13"
  }
 },
 "nbformat": 4,
 "nbformat_minor": 5
}
