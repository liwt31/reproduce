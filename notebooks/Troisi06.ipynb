{
 "cells": [
  {
   "cell_type": "markdown",
   "metadata": {},
   "source": [
    "10.1103/PhysRevLett.96.086601"
   ]
  },
  {
   "cell_type": "code",
   "execution_count": 38,
   "metadata": {},
   "outputs": [],
   "source": [
    "import os\n",
    "\n",
    "for env in [\"MKL_NUM_THREADS\", \"NUMEXPR_NUM_THREADS\", \"OMP_NUM_THREADS\"]:\n",
    "    os.environ[env] = \"1\"\n",
    "    del env\n",
    "\n",
    "import numpy as np\n",
    "import scipy.sparse\n",
    "import tqdm\n",
    "from matplotlib import pyplot as plt"
   ]
  },
  {
   "cell_type": "code",
   "execution_count": 53,
   "metadata": {},
   "outputs": [],
   "source": [
    "cm_inv_convertor = 4.5563e-6  # a.u. / cm-1\n",
    "amu_convertor = 1823  # a.u. / amu\n",
    "A_convertor = 1.88973 # a.u. / A\n",
    "ps_convertor = 41341 # a.u. / ps\n",
    "K_convertor = 1.38064881e-23 / 4.3597447222071e-18\n",
    "\n",
    "\n",
    "m = 250 * amu_convertor\n",
    "K = 14500 * amu_convertor / ps_convertor ** 2\n",
    "# N = 600 in the paper\n",
    "N = 100\n",
    "tau = 300 * cm_inv_convertor\n",
    "alpha = 995 * cm_inv_convertor / A_convertor\n",
    "dt = 0.025e-3 * ps_convertor\n",
    "T = 300 * K_convertor"
   ]
  },
  {
   "cell_type": "code",
   "execution_count": 31,
   "metadata": {},
   "outputs": [
    {
     "name": "stderr",
     "output_type": "stream",
     "text": [
      "100%|███████████████████████████████████████████████████████████████████████████| 99999/99999 [07:33<00:00, 220.66it/s]\n"
     ]
    }
   ],
   "source": [
    "trajectories = []\n",
    "\n",
    "# 125 trajctories in the paper\n",
    "for trajectory_idx in range(1):\n",
    "    u = np.random.normal(0, np.sqrt(T/K), N)\n",
    "    v = np.random.normal(0, np.sqrt(T/m), N)\n",
    "\n",
    "\n",
    "    def periodic_diag(d):\n",
    "        H = scipy.sparse.diags(d[:-1], offsets=1) + scipy.sparse.diags(d[:-1], offsets=-1) \\\n",
    "         + scipy.sparse.diags([d[-1]], offsets=len(d)-1) + scipy.sparse.diags([d[-1]], offsets=1-len(d))\n",
    "        return H\n",
    "\n",
    "\n",
    "    diag_elems = -tau + alpha * (np.roll(u, -1) - u)\n",
    "    H = periodic_diag(diag_elems)\n",
    "\n",
    "\n",
    "    evals, evecs = np.linalg.eigh(H.toarray())\n",
    "    prop = np.exp(-evals/T)\n",
    "    prop /= prop.sum()\n",
    "    init_idx = np.random.choice(np.arange(N), p=prop)\n",
    "    C = evecs[:, init_idx].reshape(N)\n",
    "\n",
    "    C_p1 = np.roll(C, -1)\n",
    "    C_m1 = np.roll(C, 1)\n",
    "\n",
    "    a = ( -K * u - alpha * (-C.conj() * C_p1 - C_p1.conj() * C + C_m1.conj() * C + C.conj() * C_m1) ) / m\n",
    "\n",
    "    new_u = u + v * dt + 1/2 * a * dt**2\n",
    "\n",
    "    deriv_diag_elems = alpha * (np.roll(v, -1) - v)\n",
    "    H_deriv = periodic_diag(deriv_diag_elems)\n",
    "    new_C = C - 1j * H * dt @ C - 1/2 * 1j * ( H @ (-1j * H @ C) + H_deriv @ C) * dt**2\n",
    "\n",
    "    stored_C = [C]\n",
    "\n",
    "    # 600e3 steps in the paper\n",
    "    for i in tqdm.tqdm(range(1, int(100e3))):\n",
    "        old_u, old_C = u, C\n",
    "        u, C = new_u, new_C\n",
    "        C_p1 = np.roll(C, -1)\n",
    "        C_m1 = np.roll(C, 1)\n",
    "        v = (u - old_u) / dt\n",
    "        a = (-K * u - alpha * (-C.conj() * C_p1 - C_p1.conj() * C + C_m1.conj() * C + C.conj() * C_m1)) / m\n",
    "        new_u = 2 * u - old_u + a * dt ** 2\n",
    "\n",
    "        diag_elems = -tau + alpha * (np.roll(u, -1) - u)\n",
    "        H = periodic_diag(diag_elems)\n",
    "        deriv_diag_elems = alpha * (np.roll(v, -1) - v)\n",
    "        H_deriv = periodic_diag(deriv_diag_elems)\n",
    "        HC = H @ C\n",
    "        new_C = C - 1j * HC * dt - 1 / 2 * 1j * (H @ (-1j * HC) + H_deriv @ C) * dt ** 2\n",
    "\n",
    "        if i % 1000 == 999:\n",
    "            stored_C.append(C)\n",
    "\n",
    "    trajectories.append(stored_C)\n"
   ]
  },
  {
   "cell_type": "code",
   "execution_count": 34,
   "metadata": {},
   "outputs": [],
   "source": [
    "occus = [(np.array(stored_C).conj() * stored_C) for stored_C in trajectories]"
   ]
  },
  {
   "cell_type": "code",
   "execution_count": 46,
   "metadata": {},
   "outputs": [],
   "source": [
    "occu = occus[0]\n",
    "occu = np.roll(occu, N//2 - occu[0].argmax())"
   ]
  },
  {
   "cell_type": "code",
   "execution_count": 51,
   "metadata": {},
   "outputs": [],
   "source": [
    "r2 = np.arange(N) ** 2 @ occu.T - (np.arange(N) @ occu.T) **2"
   ]
  },
  {
   "cell_type": "code",
   "execution_count": 54,
   "metadata": {},
   "outputs": [
    {
     "data": {
      "text/plain": [
       "[<matplotlib.lines.Line2D at 0x20e5c45afd0>]"
      ]
     },
     "execution_count": 54,
     "metadata": {},
     "output_type": "execute_result"
    },
    {
     "data": {
      "image/png": "[encoded data removed]",
      "text/plain": [
       "<Figure size 432x288 with 1 Axes>"
      ]
     },
     "metadata": {
      "needs_background": "light"
     },
     "output_type": "display_data"
    }
   ],
   "source": [
    "plt.plot(r2)"
   ]
  },
  {
   "cell_type": "code",
   "execution_count": null,
   "metadata": {},
   "outputs": [],
   "source": []
  }
 ],
 "metadata": {
  "kernelspec": {
   "display_name": "py36",
   "language": "python",
   "name": "py36"
  },
  "language_info": {
   "codemirror_mode": {
    "name": "ipython",
    "version": 3
   },
   "file_extension": ".py",
   "mimetype": "text/x-python",
   "name": "python",
   "nbconvert_exporter": "python",
   "pygments_lexer": "ipython3",
   "version": "3.6.8"
  }
 },
 "nbformat": 4,
 "nbformat_minor": 2
}
