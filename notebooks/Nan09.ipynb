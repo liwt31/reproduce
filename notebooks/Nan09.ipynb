{
 "cells": [
  {
   "cell_type": "code",
   "execution_count": 1,
   "metadata": {},
   "outputs": [],
   "source": [
    "import numpy as np\n",
    "from matplotlib import pyplot as plt"
   ]
  },
  {
   "cell_type": "code",
   "execution_count": 2,
   "metadata": {},
   "outputs": [],
   "source": [
    "# normal moode frequency and energy in cm-1\n",
    "nm1 = [\n",
    "    [21, 50.9],\n",
    "    [67, 13.5],\n",
    "    [84, 13.7],\n",
    "    [134, 4.5],\n",
    "    [214, 11.3],\n",
    "    [253, 4.0],\n",
    "    [340, 0.7],\n",
    "    [416, 10.3],\n",
    "    [450, 0.2],\n",
    "    [535, 1.0],\n",
    "    [624, 8.6],\n",
    "    [631, 11.9],\n",
    "    [659, 9.6],\n",
    "    [718, 0.4],\n",
    "    [767, 1.1],\n",
    "    [782, 0.5],\n",
    "    [859, 1.4],\n",
    "    [910, 0.1],\n",
    "    [924, 0.2],\n",
    "    [964, 0.2],\n",
    "    [973, 3.3],\n",
    "    [990, 1.4],\n",
    "    [1002, 28.5],\n",
    "    [1019, 12.5],\n",
    "    [1060, 1.4],\n",
    "    [1069, 0.1],\n",
    "    [1108, 0.2],\n",
    "    [1205, 19.2],\n",
    "    [1214, 6.8],\n",
    "    [1321, 10.7],\n",
    "    [1349, 121.7],\n",
    "    [1354, 4.5],\n",
    "    [1364, 16.3],\n",
    "    [1480, 0.6],\n",
    "    [1487, 1.8],\n",
    "    [1534, 50.9],\n",
    "    [1546, 12.6],\n",
    "    [1594, 153.5],\n",
    "    [1658, 1.7],\n",
    "    [3178, 0.1],\n",
    "    [3201, 0.6],\n",
    "    [3203, 0.5],\n",
    "    [3211, 0.6],\n",
    "    [3245, 0.4],\n",
    "]"
   ]
  },
  {
   "cell_type": "code",
   "execution_count": 3,
   "metadata": {},
   "outputs": [],
   "source": [
    "# normal moode frequency and energy in cm-1\n",
    "nm2 = [\n",
    "    [25, 66.3],\n",
    "    [68, 12.0],\n",
    "    [81, 32.3],\n",
    "    [132, 1.0],\n",
    "    [215, 9.5],\n",
    "    [250, 4.1],\n",
    "    [339, 2.4],\n",
    "    [412, 9.4],\n",
    "    [443, 0.2],\n",
    "    [529, 1.0],\n",
    "    [626, 9.4],\n",
    "    [630, 8.6],\n",
    "    [665, 8.4],\n",
    "    [683, 0.7],\n",
    "    [719, 1.7],\n",
    "    [769, 1.3],\n",
    "    [793, 0.5],\n",
    "    [859, 0.8],\n",
    "    [915, 0.3],\n",
    "    [932, 0.2],\n",
    "    [974, 0.2],\n",
    "    [994, 1.8],\n",
    "    [1005, 3.2],\n",
    "    [1011, 18.3],\n",
    "    [1017, 14.3],\n",
    "    [1060, 1.1],\n",
    "    [1087, 1.0],\n",
    "    [1113, 1.0],\n",
    "    [1212, 28.5],\n",
    "    [1217, 3.9],\n",
    "    [1238, 1.6],\n",
    "    [1321, 25.6],\n",
    "    [1345, 109.6],\n",
    "    [1364, 1.4],\n",
    "    [1367, 38.7],\n",
    "    [1440, 11.0],\n",
    "    [1486, 3.9],\n",
    "    [1534, 49.6],\n",
    "    [1544, 21.7],\n",
    "    [1599, 109.7],\n",
    "    [1630, 0.1],\n",
    "    [1653, 3.1],\n",
    "    [3190, 0.1],\n",
    "    [3221, 1.0],\n",
    "    [3222, 0.6],\n",
    "    [3257, 0.2],\n",
    "]\n"
   ]
  },
  {
   "cell_type": "code",
   "execution_count": 4,
   "metadata": {},
   "outputs": [
    {
     "data": {
      "image/png": "[encoded data removed]",
      "text/plain": [
       "<Figure size 432x288 with 1 Axes>"
      ]
     },
     "metadata": {
      "needs_background": "light"
     },
     "output_type": "display_data"
    }
   ],
   "source": [
    "# temperature. kelvin to a.u.\n",
    "T = 300  * 3.166e-6\n",
    "# transfer integral. eV to a.u.\n",
    "V = 102.4e-3 / 27.212\n",
    "\n",
    "omega_cm = []\n",
    "lam_cm = []\n",
    "for omega, lam in nm1 + nm2:\n",
    "    omega_cm.append(omega)\n",
    "    lam_cm.append(lam)\n",
    "omega_array = np.array(omega_cm) * 4.5563e-6\n",
    "lam_array = np.array(lam_cm) * 4.5563e-6\n",
    "\n",
    "omega_array = omega_array.reshape(-1, 1)\n",
    "lam_array = np.array(lam_array).reshape(-1, 1)\n",
    "\n",
    "g_array = np.sqrt(lam_array / omega_array)\n",
    "t = np.linspace(0, 1e4, int(1e3)).reshape(1, -1)\n",
    "n_array = 1 / (np.exp(omega_array / T) - 1)\n",
    "\n",
    "onexp = (g_array ** 2) * (2 * n_array + 1) * (1-np.cos(omega_array * t))\n",
    "onexp = onexp.sum(0)\n",
    "\n",
    "integrand = 2 * V**2 * np.exp(-onexp) * np.cos( ((g_array ** 2) * np.sin(omega_array * t)).sum(0) )\n",
    "t_in_fs = t.ravel() * 2.418e-17 * 1e15 \n",
    "plt.plot(t_in_fs, integrand)\n",
    "plt.ticklabel_format(axis=\"y\", style=\"sci\", scilimits=(0, 0), useMathText=True)"
   ]
  },
  {
   "cell_type": "code",
   "execution_count": null,
   "metadata": {},
   "outputs": [],
   "source": []
  }
 ],
 "metadata": {
  "kernelspec": {
   "display_name": "py36",
   "language": "python",
   "name": "py36"
  },
  "language_info": {
   "codemirror_mode": {
    "name": "ipython",
    "version": 3
   },
   "file_extension": ".py",
   "mimetype": "text/x-python",
   "name": "python",
   "nbconvert_exporter": "python",
   "pygments_lexer": "ipython3",
   "version": "3.6.8"
  }
 },
 "nbformat": 4,
 "nbformat_minor": 2
}
