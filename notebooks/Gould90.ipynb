{
 "cells": [
  {
   "cell_type": "markdown",
   "metadata": {},
   "source": [
    "## [Gould90](https://aip.scitation.org/doi/pdf/10.1063/1.4822960)\n",
    "Diffusion Quantum Monte Carlo. P. J. Reynolds, J. Tobochnik, and H. Gould. *Comput. Phys.* **1990**, *4*, 662.\n",
    "\n",
    "\"Suggestions for Further Study\" Project 1 - *naive* diffusion quantum Monte-Carlo method for the one-dimensional harmonic oscillator "
   ]
  },
  {
   "cell_type": "code",
   "execution_count": 1,
   "metadata": {},
   "outputs": [],
   "source": [
    "import numpy as np\n",
    "from matplotlib import pyplot as plt"
   ]
  },
  {
   "cell_type": "code",
   "execution_count": 2,
   "metadata": {},
   "outputs": [],
   "source": [
    "# diffusion constant, atomic unit\n",
    "D = 1/2\n",
    "# time step\n",
    "dt = 0.01"
   ]
  },
  {
   "cell_type": "markdown",
   "metadata": {},
   "source": [
    "## Hold $E_0$ as the ground truth value"
   ]
  },
  {
   "cell_type": "code",
   "execution_count": 3,
   "metadata": {},
   "outputs": [],
   "source": [
    "# initialization of 20000 positions as configurations (M=20000)\n",
    "positions = np.random.rand(20000) - 0.5\n",
    "\n",
    "# simplified version, hold $E_0$ as the ground truth value \n",
    "e0 = 0.5\n",
    "\n",
    "# number of configurations during iteration\n",
    "n_cfg = []\n",
    "for _ in range(500):\n",
    "    # Eq. 7b\n",
    "    positions2 = positions + np.random.normal(0, np.sqrt(2 * D * dt), size=len(positions))\n",
    "    # Eq. 7a\n",
    "    omega = np.exp(-dt / 2 * (1/2 * positions ** 2 + 1/2 * positions2 ** 2) + dt * e0)\n",
    "    # determine branching or deletion\n",
    "    xi_list = np.array(omega + np.random.rand(len(omega)), dtype=np.int)\n",
    "    idx_list = []\n",
    "    for i, xi in enumerate(xi_list):\n",
    "        idx_list.extend([i] * xi)\n",
    "    positions = positions2[idx_list]\n",
    "    n_cfg.append(len(positions))"
   ]
  },
  {
   "cell_type": "code",
   "execution_count": 4,
   "metadata": {},
   "outputs": [
    {
     "data": {
      "text/plain": [
       "27362"
      ]
     },
     "execution_count": 4,
     "metadata": {},
     "output_type": "execute_result"
    }
   ],
   "source": [
    "len(positions)"
   ]
  },
  {
   "cell_type": "code",
   "execution_count": 5,
   "metadata": {},
   "outputs": [
    {
     "data": {
      "text/plain": [
       "[<matplotlib.lines.Line2D at 0x7f02fac46750>]"
      ]
     },
     "execution_count": 5,
     "metadata": {},
     "output_type": "execute_result"
    },
    {
     "data": {
      "image/png": "[encoded data removed]",
      "text/plain": [
       "<Figure size 432x288 with 1 Axes>"
      ]
     },
     "metadata": {
      "needs_background": "light"
     },
     "output_type": "display_data"
    }
   ],
   "source": [
    "n, _, _ = plt.hist(positions,bins=50)\n",
    "x = np.linspace(-5, 5)\n",
    "# compare with ground state wavefunction (not normalized)\n",
    "plt.plot(x, np.exp(-x**2/2) * n.max())"
   ]
  },
  {
   "cell_type": "code",
   "execution_count": 6,
   "metadata": {},
   "outputs": [
    {
     "data": {
      "text/plain": [
       "[<matplotlib.lines.Line2D at 0x7f02f8a577d0>]"
      ]
     },
     "execution_count": 6,
     "metadata": {},
     "output_type": "execute_result"
    },
    {
     "data": {
      "image/png": "[encoded data removed]",
      "text/plain": [
       "<Figure size 432x288 with 1 Axes>"
      ]
     },
     "metadata": {
      "needs_background": "light"
     },
     "output_type": "display_data"
    }
   ],
   "source": [
    "plt.plot(n_cfg)"
   ]
  },
  {
   "cell_type": "markdown",
   "metadata": {},
   "source": [
    "## Find $E_0$"
   ]
  },
  {
   "cell_type": "code",
   "execution_count": 7,
   "metadata": {},
   "outputs": [
    {
     "name": "stdout",
     "output_type": "stream",
     "text": [
      "0 20000 0.4\n",
      "100 22256 0.34662220024923823\n",
      "200 20503 0.38766383109613173\n",
      "300 18875 0.42905508367081574\n",
      "400 17769 0.45926275971413133\n",
      "500 17164 0.4765923363919183\n",
      "600 16925 0.48360998237945535\n",
      "700 16609 0.4930440177966636\n",
      "800 16346 0.5010324430099306\n",
      "900 16227 0.5046928979671077\n",
      "1000 16240 0.5043006096683307\n",
      "1100 16243 0.5042142317350363\n",
      "1200 16250 0.5040055408745231\n",
      "1300 16207 0.5053375959905144\n",
      "1400 16267 0.5034972904504856\n",
      "1500 16403 0.4993402131020904\n",
      "1600 16261 0.5036971356211153\n",
      "1700 16297 0.5025974318062648\n",
      "1800 16318 0.5019618170797582\n",
      "1900 16218 0.5050423155647618\n"
     ]
    }
   ],
   "source": [
    "# initial configuration size\n",
    "M = 20000\n",
    "# initialization of $M$ psitions as configurations\n",
    "positions = np.random.rand(M) - 0.5\n",
    "\n",
    "# initial guess of $E_0$ \n",
    "e0 = 0.4\n",
    "# rate for updating e0\n",
    "a = 0.5\n",
    "\n",
    "# number of configurations during iteration\n",
    "n_cfg = [M, M]\n",
    "for i in range(2000):\n",
    "    e0 -= a * (n_cfg[-1] - n_cfg[-2]) / n_cfg[-1]\n",
    "    if i % 100 == 0:\n",
    "        print(i, n_cfg[-1], e0)\n",
    "    # Eq. 7b\n",
    "    positions2 = positions + np.random.normal(0, np.sqrt(2 * D * dt), size=len(positions))\n",
    "    # Eq. 7a\n",
    "    omega = np.exp(-dt / 2 * (1/2 * positions ** 2 + 1/2 * positions2 ** 2) + dt * e0)\n",
    "    # determine branching or deletion\n",
    "    xi_list = np.array(omega + np.random.rand(len(omega)), dtype=np.int)\n",
    "    idx_list = []\n",
    "    for i, xi in enumerate(xi_list):\n",
    "        idx_list.extend([i] * xi)\n",
    "    positions = positions2[idx_list]\n",
    "    n_cfg.append(len(positions))"
   ]
  },
  {
   "cell_type": "code",
   "execution_count": null,
   "metadata": {},
   "outputs": [],
   "source": []
  }
 ],
 "metadata": {
  "kernelspec": {
   "display_name": "Python 3",
   "language": "python",
   "name": "python3"
  },
  "language_info": {
   "codemirror_mode": {
    "name": "ipython",
    "version": 3
   },
   "file_extension": ".py",
   "mimetype": "text/x-python",
   "name": "python",
   "nbconvert_exporter": "python",
   "pygments_lexer": "ipython3",
   "version": "3.7.7"
  }
 },
 "nbformat": 4,
 "nbformat_minor": 4
}
