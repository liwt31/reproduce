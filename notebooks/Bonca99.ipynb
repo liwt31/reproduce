{
 "cells": [
  {
   "cell_type": "markdown",
   "metadata": {},
   "source": [
    "## [Bonca99](https://journals.aps.org/prb/abstract/10.1103/PhysRevB.60.1633)\n",
    "Holstein Polaron. J. Bonča, S. A. Trugman, and I. Batistić. *Phys. Rev. B* **1999**, *60*, 1633."
   ]
  },
  {
   "cell_type": "code",
   "execution_count": 1,
   "metadata": {},
   "outputs": [],
   "source": [
    "from collections import defaultdict\n",
    "\n",
    "import numpy as np\n",
    "from matplotlib import pyplot as plt\n",
    "import tqdm"
   ]
  },
  {
   "cell_type": "code",
   "execution_count": 2,
   "metadata": {},
   "outputs": [],
   "source": [
    "t = 1\n",
    "lam = 1\n",
    "omega = 1"
   ]
  },
  {
   "cell_type": "code",
   "execution_count": 3,
   "metadata": {},
   "outputs": [],
   "source": [
    "class State:\n",
    "    def __init__(self, e_state, ph_state):\n",
    "        self.e_state: int = e_state\n",
    "        self.ph_state: defaultdict = defaultdict(int, ph_state)\n",
    "        self.centered_ph_state: defaultdict = defaultdict(int)\n",
    "        self.center_left_ph_state: defaultdict = defaultdict(int)\n",
    "        self.center_right_ph_state: defaultdict = defaultdict(int)\n",
    "        for k, v in ph_state.items():\n",
    "            self.centered_ph_state[k-e_state] = v\n",
    "            self.center_left_ph_state[k-e_state-1] = v\n",
    "            self.center_right_ph_state[k-e_state+1] = v\n",
    "        self.total_phonon = sum(ph_state.values())\n",
    "        sorted_keys = sorted(self.centered_ph_state)\n",
    "        self._hash = hash(tuple(self.centered_ph_state[k] for k in sorted_keys))\n",
    "    \n",
    "    def __eq__(self, other):\n",
    "        return self.centered_ph_state == other.centered_ph_state\n",
    "    \n",
    "    def __hash__(self):\n",
    "        return self._hash\n",
    "    \n",
    "    def __repr__(self):\n",
    "        return f\"<State at 0x{id(self):x} e:{self.e_state}, ph:{list(self.ph_state.items())}>\""
   ]
  },
  {
   "cell_type": "code",
   "execution_count": 4,
   "metadata": {},
   "outputs": [],
   "source": [
    "def ph_upper(ph, e):\n",
    "    ph = ph.copy()\n",
    "    ph[e] += 1\n",
    "    return ph\n",
    "    \n",
    "def ph_lower(ph, e):\n",
    "    if e not in ph:\n",
    "        return\n",
    "    ph = ph.copy()\n",
    "    if ph[e] == 1:\n",
    "        ph.pop(e)\n",
    "    else:\n",
    "        ph[e] -= 1\n",
    "    return ph"
   ]
  },
  {
   "cell_type": "code",
   "execution_count": 5,
   "metadata": {},
   "outputs": [],
   "source": [
    "root = State(0, {})"
   ]
  },
  {
   "cell_type": "code",
   "execution_count": 6,
   "metadata": {},
   "outputs": [],
   "source": [
    "def expand(state: State):\n",
    "    e = state.e_state\n",
    "    ph = state.ph_state\n",
    "    res = [State(e-1, ph), State(e+1, ph)]\n",
    "    ph_up = ph_upper(ph, e)\n",
    "    res.append(State(e, ph_up))\n",
    "    ph_low = ph_lower(ph, e)\n",
    "    if ph_low is not None:\n",
    "        res.append(State(e, ph_low))\n",
    "    return set(res)"
   ]
  },
  {
   "cell_type": "code",
   "execution_count": 7,
   "metadata": {},
   "outputs": [],
   "source": [
    "state_collections = set([root])\n",
    "n_round = 9\n",
    "for i in range(n_round):\n",
    "    orig_collection = state_collections.copy()\n",
    "    for state in orig_collection:\n",
    "        state_collections.update(expand(state))"
   ]
  },
  {
   "cell_type": "code",
   "execution_count": 8,
   "metadata": {},
   "outputs": [
    {
     "data": {
      "text/plain": [
       "1185"
      ]
     },
     "execution_count": 8,
     "metadata": {},
     "output_type": "execute_result"
    }
   ],
   "source": [
    "len(state_collections)"
   ]
  },
  {
   "cell_type": "code",
   "execution_count": 12,
   "metadata": {},
   "outputs": [],
   "source": [
    "ndim = len(state_collections)\n",
    "states = list(state_collections)"
   ]
  },
  {
   "cell_type": "code",
   "execution_count": 13,
   "metadata": {},
   "outputs": [
    {
     "name": "stderr",
     "output_type": "stream",
     "text": [
      "100%|████████████████████████████████████████████████████████████████████████████████| 100/100 [12:05<00:00,  7.26s/it]\n"
     ]
    }
   ],
   "source": [
    "evals_list = []\n",
    "for k in tqdm.tqdm(np.linspace(0, np.pi, 100)):\n",
    "    def interaction(state1, state2):\n",
    "        if state1 is state2 and len(state1.centered_ph_state) == 0:\n",
    "            return - t * np.exp(-1j*k) -t * np.exp(1j*k)\n",
    "        offset = state2.e_state - state1.e_state\n",
    "        if state1.centered_ph_state == state2.centered_ph_state:\n",
    "            return omega * state1.total_phonon * np.exp(1j * k * offset)\n",
    "        state2_up = ph_upper(state2.centered_ph_state, 0)\n",
    "        if state1.centered_ph_state == state2_up:\n",
    "            return - np.sqrt(state2_up[0]) * lam * np.exp(1j * k * offset)\n",
    "        state2_low = ph_lower(state2.centered_ph_state, 0)\n",
    "        if state2_low is not None and state1.centered_ph_state == state2_low:\n",
    "            return - np.sqrt(state2_low[0]+1) * lam * np.exp(1j * k * offset)\n",
    "        if state1.centered_ph_state == state2.center_left_ph_state:\n",
    "            return -t * np.exp(1j * k * (offset-1))\n",
    "        if state1.centered_ph_state == state2.center_right_ph_state:\n",
    "            return -t * np.exp(1j * k * (offset+1))\n",
    "        return 0\n",
    "    h = np.zeros((ndim, ndim), dtype=np.complex)\n",
    "    for i, state1 in enumerate(states):\n",
    "        for j, state2 in enumerate(states):\n",
    "            h[i][j] = interaction(state1, state2)\n",
    "    evals, evecs = np.linalg.eigh(h)\n",
    "    evals_list.append(evals)\n",
    "evals_array = np.array(evals_list)"
   ]
  },
  {
   "cell_type": "code",
   "execution_count": 14,
   "metadata": {},
   "outputs": [
    {
     "data": {
      "text/plain": [
       "(0, 3.141592653589793)"
      ]
     },
     "execution_count": 14,
     "metadata": {},
     "output_type": "execute_result"
    },
    {
     "data": {
      "image/png": "[encoded data removed]",
      "text/plain": [
       "<Figure size 432x288 with 1 Axes>"
      ]
     },
     "metadata": {
      "needs_background": "light"
     },
     "output_type": "display_data"
    }
   ],
   "source": [
    "plt.plot(np.linspace(0, np.pi, 100), evals_array[:, :25])\n",
    "plt.xlim(0, np.pi)"
   ]
  },
  {
   "cell_type": "code",
   "execution_count": null,
   "metadata": {},
   "outputs": [],
   "source": []
  }
 ],
 "metadata": {
  "kernelspec": {
   "display_name": "py36",
   "language": "python",
   "name": "py36"
  },
  "language_info": {
   "codemirror_mode": {
    "name": "ipython",
    "version": 3
   },
   "file_extension": ".py",
   "mimetype": "text/x-python",
   "name": "python",
   "nbconvert_exporter": "python",
   "pygments_lexer": "ipython3",
   "version": "3.6.8"
  }
 },
 "nbformat": 4,
 "nbformat_minor": 2
}
